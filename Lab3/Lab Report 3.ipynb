{
 "cells": [
  {
   "cell_type": "markdown",
   "id": "73efafd0-1d0f-4c6e-81e8-05cf3539461c",
   "metadata": {},
   "source": [
    "**Name: Arpit Agarwal**\n",
    "\n",
    "**PHYS265**\n",
    "\n",
    "**April 30,2025**"
   ]
  },
  {
   "cell_type": "markdown",
   "id": "898c2f2e-21c8-4de0-9fa7-6abff16e3e64",
   "metadata": {},
   "source": [
    "# Lab 3: ATLAS Data Analysis"
   ]
  },
  {
   "cell_type": "markdown",
   "id": "1dd3c82a-7433-4aad-8702-a8ce36cc87d1",
   "metadata": {},
   "source": [
    "**I: Introduction**"
   ]
  },
  {
   "cell_type": "markdown",
   "id": "684d685d-a972-49f4-8a3e-0ab692ac08e8",
   "metadata": {},
   "source": [
    "This report presents an analysis of real data from the ATLAS experiment at CERN’s Large Hadron Collider (LHC), focusing on the reconstruction of the $Z^0$ boson mass from its decay into charged lepton pairs ($Z^0 \\rightarrow \\ell^+ \\ell^-$). Using a dataset of $5000$ proton-proton collision events, I computed the invariant mass of each lepton pair and constructed a histogram of the distribution. A Breit-Wigner fit was applied to extract the best-fit mass and width of the $Z^0$ boson, followed by a two-dimensional $\\chi^2$ parameter scan to assess the uncertainty and correlation between the parameters. The analysis provides insight into electroweak processes and demonstrates key techniques in particle data interpretation."
   ]
  },
  {
   "cell_type": "markdown",
   "id": "aa38a826-e695-41d8-8592-2c7852ae7973",
   "metadata": {},
   "source": [
    "**II: Invarient Mass Distribution and its fit**"
   ]
  },
  {
   "cell_type": "markdown",
   "id": "a6ed9c6d-096a-42e2-a7d5-27765f35fd70",
   "metadata": {},
   "source": [
    "First, I analysed the 5000 proton-proton collision data to find out the distribution of the invarient mass of protons whose collision resulted in the consequent particles.\n",
    "\n",
    "This was done so using the Invarient Mass Formula, where E is the total energy and $p_x$,$p_y$,$p_z$ are the momenta in the respective x-y-z directions:\n",
    "$$\n",
    "M = \\sqrt{E^2 - (p_x^2+p_y^2+p_z^2)} \n",
    "$$\n",
    "But since,only given the final momenta of the particles and the corresponding $\\phi$ and $\\eta$ angles, I calculated the respective momenta in particular directions using the formulae:\n",
    "$$\n",
    "p_x = p_Tcos(\\phi)\n",
    "$$\n",
    "$$\n",
    "p_y = p_Tsin(\\phi)\n",
    "$$\n",
    "$$\n",
    "p_z = p_Tsin(\\eta)\n",
    "$$\n",
    "And then after calcuating the momenta in the x-y-z axis of both the particles I added them up including the Total Energies and used the Invarient Mass Formula to finally calculate the Invarient Mass Distribution\n",
    "\n",
    "For the distribution I used the bins from 80-100 with 41 data points"
   ]
  },
  {
   "cell_type": "markdown",
   "id": "73517e5c-179f-40a3-9f72-7c3f1ecedfbf",
   "metadata": {},
   "source": [
    "After this I fit the Mass Distribution with the Briet-Wigner function:\n",
    "$$\n",
    "D(m;m0,\\Gamma) = \\frac{1}{\\pi}\\frac{\\Gamma /2}{(m-m0)^2+ (\\Gamma / 2)^2}\n",
    "$$\n",
    "Then due to normalization issues, I multiply it by $\\frac{5000}{2}$"
   ]
  },
  {
   "attachments": {},
   "cell_type": "markdown",
   "id": "75d2d727-1e8e-485a-a07e-0ac5aceaabf5",
   "metadata": {},
   "source": [
    "For the curve fit, I chose the range of data where the invarient mass was between 87 and 93\n",
    "\n",
    "After fitting it, I find the best fit values m0 and $\\Gamma$ and do statistical analysis to find out if the fit was in agreement to the data.\n",
    "The values found were: \n",
    "$$\n",
    "m0 = 90.3 \\pm 0.1\\ GeV\n",
    "$$\n",
    "$$\n",
    "\\Gamma = 6.4 \\pm 0.2\\ GeV\n",
    "$$\n",
    "$$ \n",
    "\\chi^2 = 10.0 \n",
    "$$\n",
    "$$ \n",
    "ndof = 10\n",
    "$$\n",
    "$$ \n",
    "P-Value = 0.4\n",
    "$$\n",
    "Then I plotted the data with the fit and the residuals for better visualization\n",
    "<div>\n",
    "<img src=\"Figure 1.png\" width=\"600\"/>\n",
    "</div>"
   ]
  },
  {
   "cell_type": "markdown",
   "id": "5579c5aa-c849-4c55-b99d-d7c85acf6588",
   "metadata": {},
   "source": [
    "**III: 2D Parameter Scan**"
   ]
  },
  {
   "cell_type": "markdown",
   "id": "834c716a-44ed-4558-b3d5-726874ea7e3c",
   "metadata": {},
   "source": [
    "After doing the best fit, I make chi-squre analysis for multiple values of m0 and $\\Gamma$ \n",
    "\n",
    "For this, I take values of m0 between 89 and 91 and values of $\\Gamma$ between 5 and 8 and create a bin of 300 equally divided values between these ranges.Then I calculate $\\chi^2$ values for each combination of m0 and $\\Gamma$ between these values to create a 2-D Meshgrid of $\\chi^2$ values for the respective m0 and $\\Gamma$."
   ]
  },
  {
   "cell_type": "markdown",
   "id": "ddc4a01a-aa10-46d1-b972-e9411f915d01",
   "metadata": {},
   "source": [
    "Furthermore, for better understanding of the data, I create a meshgrid of difference of the $\\chi^2$ values with the $\\chi^2_{min}$ obtained and create a contour plot for better visualization of the change of agreement of values"
   ]
  },
  {
   "cell_type": "markdown",
   "id": "41ae96e4-47f8-4800-8c7e-6ebcd85f8d4b",
   "metadata": {},
   "source": [
    "I also in the contour mention the values of $\\chi^2$ for which the values of m0 and $\\Gamma$ which are 1$\\sigma$ and 3$\\sigma$ away from the best fit value and plot the best fit value of m0 and $\\Gamma$ which gives us the minimum $\\chi^2$ and thus $\\Delta \\chi^2$ as 0\n",
    "\n",
    "The contour plot came as:\n",
    "<div>\n",
    "<img src=\"Figure 2.png\" width=\"250\"/>\n",
    "</div>"
   ]
  },
  {
   "cell_type": "markdown",
   "id": "7003b727-a8f2-439f-bd25-ec0d223f29f4",
   "metadata": {},
   "source": [
    "**IV Discussion and Future Work**"
   ]
  },
  {
   "cell_type": "markdown",
   "id": "47d72937-e478-4661-b74a-d78da60465f7",
   "metadata": {},
   "source": [
    "The best-fit value for the $Z^0$ boson mass obtained from the Breit-Wigner fit is $90.3 \\pm 0.1\\ \\text{GeV}$, which aligns closely with the current Particle Data Group (PDG) value of $91.1880 \\pm 0.0020\\ \\text{GeV}$. This strong agreement confirms that the data and analysis procedures used effectively capture the key features of $Z^0$ boson decay. The goodness-of-fit was validated by a reduced chi-square value of approximately $\\chi^2/\\text{ndof} \\approx 1.0$, and a $p-value: 0.4$ that falls well within the acceptable range ($0.05 < p < 0.95$), suggesting no statistically significant disagreement between the model and the data."
   ]
  },
  {
   "cell_type": "markdown",
   "id": "3b14ae74-4195-4011-85bc-f11fe70f1b1b",
   "metadata": {},
   "source": [
    "The two-dimensional $\\chi^2$ contour plot further revealed the expected correlation between the mass and width parameters of the fit. The $1\\sigma$ and $3\\sigma$ confidence level contours clearly outline the parameter space uncertainty, and the best-fit point lies well within the $1\\sigma$ region. This supports the reliability and precision of the measurement."
   ]
  },
  {
   "cell_type": "markdown",
   "id": "7941af71-f693-407d-857e-bc1cef1831f5",
   "metadata": {},
   "source": [
    "However, some simplifying assumptions were made in the analysis. Systematic uncertainties—detector calibration errors, energy resolution effects, and lepton identification efficiency—were not included. Such effects would broaden the observed resonance peak or shift the measured mass. Statistical (Poisson) errors alone were assumed for the histogram bin uncertainties. The normalization of the Breit-Wigner function was also held fixed rather than being included as a fit parameter, which could influence the best parameter values."
   ]
  },
  {
   "cell_type": "markdown",
   "id": "5117fe3e-89c9-488f-914d-23c0a2ae9f22",
   "metadata": {},
   "source": [
    "Future studies can improve upon these limitations by incorporating realistic detector simulations and systematic uncertainty estimates. Energy smearing and detector resolution simulation, based on ATLAS calibration data, would lead to more accurate fits. Extension of this analysis to other decay channels or application to other particles such as the $W$ and Higgs bosons could provide further validation of the analysis technique and further insight into electroweak interactions."
   ]
  }
 ],
 "metadata": {
  "kernelspec": {
   "display_name": "Python 3 (ipykernel)",
   "language": "python",
   "name": "python3"
  },
  "language_info": {
   "codemirror_mode": {
    "name": "ipython",
    "version": 3
   },
   "file_extension": ".py",
   "mimetype": "text/x-python",
   "name": "python",
   "nbconvert_exporter": "python",
   "pygments_lexer": "ipython3",
   "version": "3.12.5"
  }
 },
 "nbformat": 4,
 "nbformat_minor": 5
}
