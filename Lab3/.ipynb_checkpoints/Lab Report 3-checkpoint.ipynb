{
 "cells": [
  {
   "cell_type": "markdown",
   "id": "73efafd0-1d0f-4c6e-81e8-05cf3539461c",
   "metadata": {},
   "source": [
    "**Name: Arpit Agarwal**\n",
    "\n",
    "**PHYS265**\n",
    "\n",
    "**April 30,2025**"
   ]
  },
  {
   "cell_type": "markdown",
   "id": "898c2f2e-21c8-4de0-9fa7-6abff16e3e64",
   "metadata": {},
   "source": [
    "# Lab 3: ATLAS Data Analysis"
   ]
  },
  {
   "cell_type": "markdown",
   "id": "1dd3c82a-7433-4aad-8702-a8ce36cc87d1",
   "metadata": {},
   "source": [
    "**I: Introduction**"
   ]
  },
  {
   "cell_type": "markdown",
   "id": "684d685d-a972-49f4-8a3e-0ab692ac08e8",
   "metadata": {},
   "source": [
    "In this report, I present the results of my analysis of real data from the ATLAS experiment at CERN's Large Hadron Collider (LHC). The focus of the investigation is the $Z^0$ boson, a neutral carrier of the weak nuclear force, which plays a critical role in mediating fundamental particle interactions. By examining 5000 proton-proton collision events where the Z⁰ decays into a pair of charged leptons ($Z^0 → l^+l^-$), I calculated the invariant mass of each event using energy and momentum measurements provided in the dataset. The mass distribution was then fitted using the Breit-Wigner function to extract the most likely value of the $Z^0$ mass and its experimental decay width. A 2D chi-square parameter scan was also performed to explore the uncertainty and correlation between these two parameters. The goal of this analysis is to verify experimental consistency with the Standard Model and gain practical experience in high-energy data interpretation and fitting techniques."
   ]
  },
  {
   "cell_type": "markdown",
   "id": "aa38a826-e695-41d8-8592-2c7852ae7973",
   "metadata": {},
   "source": [
    "**II: Invarient Mass Distribution**"
   ]
  },
  {
   "cell_type": "markdown",
   "id": "a6ed9c6d-096a-42e2-a7d5-27765f35fd70",
   "metadata": {},
   "source": [
    "First, I analysed the 5000 proton-proton collision data to find out the distribution of the invarient mass of protons whose collision resulted in the consequent particles.\n",
    "\n",
    "This was done so using the Invarient Mass Formula, where E is the total energy and $p_x$,$p_y$,$p_z$ are the momenta in the respective x-y-z directions:\n",
    "$$\n",
    "M = \\sqrt{E^2 - (p_x^2+p_y^2+p_z^2)} \n",
    "$$\n",
    "But since,only given the final momenta of the particles and the corresponding $\\phi$ and $\\eta$ angles, I calculated the respective momenta in particular directions using the formulae:\n",
    "$$\n",
    "p_x = p_Tcos(\\phi)\n",
    "$$\n",
    "$$\n",
    "p_y = p_Tsin(\\phi)\n",
    "$$\n",
    "$$\n",
    "p_z = p_Tsin(\\eta)\n",
    "$$\n",
    "And then after calcuating the momenta in the x-y-z axis of both the particles I added them up including the Total Energies and used the Invarient Mass Formula to finally calculate the Invarient Mass Distribution\n",
    "\n",
    "For the distribution I used the bins from 80-100 with 41 data points"
   ]
  },
  {
   "cell_type": "markdown",
   "id": "73517e5c-179f-40a3-9f72-7c3f1ecedfbf",
   "metadata": {},
   "source": [
    "After this I fit the Mass Distribution "
   ]
  }
 ],
 "metadata": {
  "kernelspec": {
   "display_name": "Python 3 (ipykernel)",
   "language": "python",
   "name": "python3"
  },
  "language_info": {
   "codemirror_mode": {
    "name": "ipython",
    "version": 3
   },
   "file_extension": ".py",
   "mimetype": "text/x-python",
   "name": "python",
   "nbconvert_exporter": "python",
   "pygments_lexer": "ipython3",
   "version": "3.12.5"
  }
 },
 "nbformat": 4,
 "nbformat_minor": 5
}
